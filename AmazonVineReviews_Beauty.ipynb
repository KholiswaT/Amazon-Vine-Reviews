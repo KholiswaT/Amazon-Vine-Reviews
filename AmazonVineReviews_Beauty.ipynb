{
  "nbformat": 4,
  "nbformat_minor": 0,
  "metadata": {
    "colab": {
      "name": "AmazonVineReviews_Beauty.ipynb",
      "provenance": [],
      "authorship_tag": "ABX9TyPlpNRXuN3uLTSSk/2ZfKCu",
      "include_colab_link": true
    },
    "kernelspec": {
      "name": "python3",
      "display_name": "Python 3"
    }
  },
  "cells": [
    {
      "cell_type": "markdown",
      "metadata": {
        "id": "view-in-github",
        "colab_type": "text"
      },
      "source": [
        "<a href=\"https://colab.research.google.com/github/KholiswaT/AmazonVineReviews/blob/main/AmazonVineReviews_Beauty.ipynb\" target=\"_parent\"><img src=\"https://colab.research.google.com/assets/colab-badge.svg\" alt=\"Open In Colab\"/></a>"
      ]
    },
    {
      "cell_type": "code",
      "metadata": {
        "id": "g_W9l-NFUqRF",
        "colab": {
          "base_uri": "https://localhost:8080/"
        },
        "outputId": "983f23ff-2875-45f1-d82b-55e807cc19d5"
      },
      "source": [
        "import os\n",
        "# Find the latest version of spark 2.0  from http://www-us.apache.org/dist/spark/ and enter as the spark version\n",
        "spark_version = 'spark-3.0.1'\n",
        "os.environ['SPARK_VERSION']=spark_version\n",
        "\n",
        "# Install Spark and Java\n",
        "!apt-get update\n",
        "!apt-get install openjdk-8-jdk-headless -qq > /dev/null\n",
        "!wget -q http://www-us.apache.org/dist/spark/$SPARK_VERSION/$SPARK_VERSION-bin-hadoop2.7.tgz\n",
        "!tar xf $SPARK_VERSION-bin-hadoop2.7.tgz\n",
        "!pip install -q findspark\n",
        "\n",
        "# Set Environment Variables\n",
        "os.environ[\"JAVA_HOME\"] = \"/usr/lib/jvm/java-8-openjdk-amd64\"\n",
        "os.environ[\"SPARK_HOME\"] = f\"/content/{spark_version}-bin-hadoop2.7\"\n",
        "\n",
        "# Start a SparkSession\n",
        "import findspark\n",
        "findspark.init()"
      ],
      "execution_count": 1,
      "outputs": [
        {
          "output_type": "stream",
          "text": [
            "\r0% [Working]\r            \rGet:1 https://cloud.r-project.org/bin/linux/ubuntu bionic-cran40/ InRelease [3,626 B]\n",
            "Ign:2 https://developer.download.nvidia.com/compute/cuda/repos/ubuntu1804/x86_64  InRelease\n",
            "Ign:3 https://developer.download.nvidia.com/compute/machine-learning/repos/ubuntu1804/x86_64  InRelease\n",
            "Hit:4 https://developer.download.nvidia.com/compute/cuda/repos/ubuntu1804/x86_64  Release\n",
            "Get:5 http://ppa.launchpad.net/c2d4u.team/c2d4u4.0+/ubuntu bionic InRelease [15.9 kB]\n",
            "Get:6 http://security.ubuntu.com/ubuntu bionic-security InRelease [88.7 kB]\n",
            "Hit:7 https://developer.download.nvidia.com/compute/machine-learning/repos/ubuntu1804/x86_64  Release\n",
            "Hit:9 http://archive.ubuntu.com/ubuntu bionic InRelease\n",
            "Get:11 http://archive.ubuntu.com/ubuntu bionic-updates InRelease [88.7 kB]\n",
            "Hit:12 http://ppa.launchpad.net/cran/libgit2/ubuntu bionic InRelease\n",
            "Hit:13 http://ppa.launchpad.net/graphics-drivers/ppa/ubuntu bionic InRelease\n",
            "Get:14 http://archive.ubuntu.com/ubuntu bionic-backports InRelease [74.6 kB]\n",
            "Get:15 http://ppa.launchpad.net/c2d4u.team/c2d4u4.0+/ubuntu bionic/main Sources [1,715 kB]\n",
            "Get:16 http://archive.ubuntu.com/ubuntu bionic-updates/universe amd64 Packages [2,149 kB]\n",
            "Get:17 http://ppa.launchpad.net/c2d4u.team/c2d4u4.0+/ubuntu bionic/main amd64 Packages [878 kB]\n",
            "Fetched 5,014 kB in 5s (934 kB/s)\n",
            "Reading package lists... Done\n"
          ],
          "name": "stdout"
        }
      ]
    },
    {
      "cell_type": "code",
      "metadata": {
        "colab": {
          "base_uri": "https://localhost:8080/"
        },
        "id": "bZ5ilH7jLdv7",
        "outputId": "23f60627-1200-4004-af05-aea0ba11e3c0"
      },
      "source": [
        "!wget https://jdbc.postgresql.org/download/postgresql-42.2.9.jar"
      ],
      "execution_count": 2,
      "outputs": [
        {
          "output_type": "stream",
          "text": [
            "--2021-01-23 02:27:49--  https://jdbc.postgresql.org/download/postgresql-42.2.9.jar\n",
            "Resolving jdbc.postgresql.org (jdbc.postgresql.org)... 72.32.157.228, 2001:4800:3e1:1::228\n",
            "Connecting to jdbc.postgresql.org (jdbc.postgresql.org)|72.32.157.228|:443... connected.\n",
            "HTTP request sent, awaiting response... 200 OK\n",
            "Length: 914037 (893K) [application/java-archive]\n",
            "Saving to: ‘postgresql-42.2.9.jar’\n",
            "\n",
            "postgresql-42.2.9.j 100%[===================>] 892.61K  1.30MB/s    in 0.7s    \n",
            "\n",
            "2021-01-23 02:27:50 (1.30 MB/s) - ‘postgresql-42.2.9.jar’ saved [914037/914037]\n",
            "\n"
          ],
          "name": "stdout"
        }
      ]
    },
    {
      "cell_type": "code",
      "metadata": {
        "id": "XpAowphGLeBz"
      },
      "source": [
        "from pyspark.sql import SparkSession\n",
        "spark = SparkSession.builder.appName(\"AWS\").config(\"spark.driver.extraClassPath\",\"/content/postgresql-42.2.9.jar\").getOrCreate()"
      ],
      "execution_count": 3,
      "outputs": []
    },
    {
      "cell_type": "code",
      "metadata": {
        "id": "BBkakNsmLeFN"
      },
      "source": [
        "# Start Spark session\n",
        "from pyspark.sql import SparkSession\n",
        "from pyspark.sql.functions import to_date\n",
        "url = \"https://s3.amazonaws.com/amazon-reviews-pds/tsv/amazon_reviews_us_Beauty_v1_00.tsv.gz\"\n",
        "spark.sparkContext.addFile(url)"
      ],
      "execution_count": 5,
      "outputs": []
    },
    {
      "cell_type": "code",
      "metadata": {
        "colab": {
          "base_uri": "https://localhost:8080/"
        },
        "id": "hxRMyf1MMZ3E",
        "outputId": "ec08fd22-41ef-47f2-ae73-79bc123f481f"
      },
      "source": [
        "from pyspark import SparkFiles\n",
        "df = spark.read.csv(SparkFiles.get(\"amazon_reviews_us_Beauty_v1_00.tsv.gz\"), sep=\"\\t\", inferSchema=True, header=True)\n",
        "\n",
        "# Count Number of Review in this dataset (US Beauty)\n",
        "df.count()"
      ],
      "execution_count": 6,
      "outputs": [
        {
          "output_type": "execute_result",
          "data": {
            "text/plain": [
              "5115666"
            ]
          },
          "metadata": {
            "tags": []
          },
          "execution_count": 6
        }
      ]
    },
    {
      "cell_type": "code",
      "metadata": {
        "colab": {
          "base_uri": "https://localhost:8080/"
        },
        "id": "09dwPGkUMZ8O",
        "outputId": "fe177588-1646-45af-f2d6-4c2f01a33e32"
      },
      "source": [
        "#Show Dataframe\n",
        "df.show()"
      ],
      "execution_count": 7,
      "outputs": [
        {
          "output_type": "stream",
          "text": [
            "+-----------+-----------+--------------+----------+--------------+--------------------+----------------+-----------+-------------+-----------+----+-----------------+--------------------+---------------------+-----------+\n",
            "|marketplace|customer_id|     review_id|product_id|product_parent|       product_title|product_category|star_rating|helpful_votes|total_votes|vine|verified_purchase|     review_headline|          review_body|review_date|\n",
            "+-----------+-----------+--------------+----------+--------------+--------------------+----------------+-----------+-------------+-----------+----+-----------------+--------------------+---------------------+-----------+\n",
            "|         US|    1797882|R3I2DHQBR577SS|B001ANOOOE|       2102612|The Naked Bee Vit...|          Beauty|          5|            0|          0|   N|                Y|          Five Stars| Love this, excell...| 2015-08-31|\n",
            "|         US|   18381298|R1QNE9NQFJC2Y4|B0016J22EQ|     106393691|Alba Botanica Sun...|          Beauty|          5|            0|          0|   N|                Y|Thank you Alba Bo...| The great thing a...| 2015-08-31|\n",
            "|         US|   19242472|R3LIDG2Q4LJBAO|B00HU6UQAG|     375449471|Elysee Infusion S...|          Beauty|          5|            0|          0|   N|                Y|          Five Stars| Great Product, I'...| 2015-08-31|\n",
            "|         US|   19551372|R3KSZHPAEVPEAL|B002HWS7RM|     255651889|Diane D722 Color,...|          Beauty|          5|            0|          0|   N|                Y|          GOOD DEAL!| I use them as sho...| 2015-08-31|\n",
            "|         US|   14802407| RAI2OIG50KZ43|B00SM99KWU|     116158747|Biore UV Aqua Ric...|          Beauty|          5|            0|          0|   N|                Y|this soaks in qui...| This is my go-to ...| 2015-08-31|\n",
            "|         US|    2909389|R1R30FA4RB5P54|B000NYL1Z6|     166146615|Murad Clarifying ...|          Beauty|          4|            0|          0|   N|                Y|          Four Stars|                 Good| 2015-08-31|\n",
            "|         US|   19397215|R30IJKCGJBGPJH|B001SYWTFG|     111742328|CoverGirl Queen C...|          Beauty|          5|            0|          0|   N|                Y|            Good buy| Great eyeliner, d...| 2015-08-31|\n",
            "|         US|    3195210|R18GLJJPVQ1OVH|B005F2EVMQ|     255803087|Bifesta Mandom Ey...|          Beauty|          5|            0|          0|   N|                Y|          Five Stars|Best makeup remover！| 2015-08-31|\n",
            "|         US|   52216383| R8TVYIJXLYJT0|B00M1SUW7K|     246816549|Can You Handlebar...|          Beauty|          5|            0|          0|   N|                Y|Tame the wild mus...| This is a great p...| 2015-08-31|\n",
            "|         US|   10278216|R1CJGF6M3PVHEZ|B001KYQA1S|       9612905|Maybelline Great ...|          Beauty|          1|            0|          2|   N|                Y|but it's like hav...| I thought it woul...| 2015-08-31|\n",
            "|         US|   24655453|R2A30ALEGLMCGN|B00SAQ9DZY|     292127037|12 New, High Qual...|          Beauty|          4|            1|          1|   N|                Y|        Good Product| These are great f...| 2015-08-31|\n",
            "|         US|   30788223|R134GP1Y3EQZ1L|B00HFQQ0VU|     311309827|Waterpik Aquarius...|          Beauty|          5|            0|          0|   N|                Y| Optimum Oral Health| Just got this.  N...| 2015-08-31|\n",
            "|         US|   11257536| R6CE3SOIUJGP4|B00PYL8MAA|     390030149|Proganix Agave Ne...|          Beauty|          4|            1|          1|   N|                N|   Love this cream !| Wish I had discov...| 2015-08-31|\n",
            "|         US|   29605778|R37CDLQZUPDZVM|B00D9NV2D4|     794858888|         Shea Butter|          Beauty|          5|            0|          0|   N|                Y|It works so much ...| I bought this to ...| 2015-08-31|\n",
            "|         US|   41238422|R1KH9XCK6GYT26|B008Y9M412|     874223919|Etude House Fresh...|          Beauty|          5|            0|          0|   N|                Y|          Five Stars| The tint is aweso...| 2015-08-31|\n",
            "|         US|   23620123|R3I4BQ6654MQNA|B00FWXBLHG|     464001209|Vintage Lil' Spon...|          Beauty|          5|            1|          1|   N|                Y|Great product, fa...| I'm in love with ...| 2015-08-31|\n",
            "|         US|   25564245|R3LUPG356F1D40|B003KL8CB0|     328680790|Jenna Jameson Hea...|          Beauty|          5|            3|          3|   N|                N|Does not smell ch...| I was given this ...| 2015-08-31|\n",
            "|         US|     801375|R3HNVRTHL9S2ZB|B006R2LNV0|     620737389|Korean Cosmetics_...|          Beauty|          5|            0|          0|   N|                N|          Five Stars| Magical everybody...| 2015-08-31|\n",
            "|         US|    9478730| R5HKL5RD4IUT8|B00SMIIR0W|     351973146|Schick Hydro Silk...|          Beauty|          5|            0|          0|   N|                Y|Love this Razor/T...| Works fantastic! ...| 2015-08-31|\n",
            "|         US|   18418407|R37Z8NBTHPR853|B003UKKH6O|      10034795|Oral-B Vitality P...|          Beauty|          5|            0|          0|   N|                Y|          Five Stars| excellent battery...| 2015-08-31|\n",
            "+-----------+-----------+--------------+----------+--------------+--------------------+----------------+-----------+-------------+-----------+----+-----------------+--------------------+---------------------+-----------+\n",
            "only showing top 20 rows\n",
            "\n"
          ],
          "name": "stdout"
        }
      ]
    },
    {
      "cell_type": "code",
      "metadata": {
        "colab": {
          "base_uri": "https://localhost:8080/"
        },
        "id": "z3oPCZLtMaAO",
        "outputId": "7bbdbb82-11f2-4878-cdb6-f30cbe41cbf8"
      },
      "source": [
        "#Only columns that matched the Schema SQL file were selected. The alias funciton is used to hid the date format --without this, the date format will be shown in the column alongside review_date\n",
        "review_id = df.select([\"review_id\", \"customer_id\", \"product_id\", \"product_parent\", to_date(\"review_date\", 'yyyy-MM-dd').alias('review_date')])\n",
        "review_id.show()"
      ],
      "execution_count": 8,
      "outputs": [
        {
          "output_type": "stream",
          "text": [
            "+--------------+-----------+----------+--------------+-----------+\n",
            "|     review_id|customer_id|product_id|product_parent|review_date|\n",
            "+--------------+-----------+----------+--------------+-----------+\n",
            "|R3I2DHQBR577SS|    1797882|B001ANOOOE|       2102612| 2015-08-31|\n",
            "|R1QNE9NQFJC2Y4|   18381298|B0016J22EQ|     106393691| 2015-08-31|\n",
            "|R3LIDG2Q4LJBAO|   19242472|B00HU6UQAG|     375449471| 2015-08-31|\n",
            "|R3KSZHPAEVPEAL|   19551372|B002HWS7RM|     255651889| 2015-08-31|\n",
            "| RAI2OIG50KZ43|   14802407|B00SM99KWU|     116158747| 2015-08-31|\n",
            "|R1R30FA4RB5P54|    2909389|B000NYL1Z6|     166146615| 2015-08-31|\n",
            "|R30IJKCGJBGPJH|   19397215|B001SYWTFG|     111742328| 2015-08-31|\n",
            "|R18GLJJPVQ1OVH|    3195210|B005F2EVMQ|     255803087| 2015-08-31|\n",
            "| R8TVYIJXLYJT0|   52216383|B00M1SUW7K|     246816549| 2015-08-31|\n",
            "|R1CJGF6M3PVHEZ|   10278216|B001KYQA1S|       9612905| 2015-08-31|\n",
            "|R2A30ALEGLMCGN|   24655453|B00SAQ9DZY|     292127037| 2015-08-31|\n",
            "|R134GP1Y3EQZ1L|   30788223|B00HFQQ0VU|     311309827| 2015-08-31|\n",
            "| R6CE3SOIUJGP4|   11257536|B00PYL8MAA|     390030149| 2015-08-31|\n",
            "|R37CDLQZUPDZVM|   29605778|B00D9NV2D4|     794858888| 2015-08-31|\n",
            "|R1KH9XCK6GYT26|   41238422|B008Y9M412|     874223919| 2015-08-31|\n",
            "|R3I4BQ6654MQNA|   23620123|B00FWXBLHG|     464001209| 2015-08-31|\n",
            "|R3LUPG356F1D40|   25564245|B003KL8CB0|     328680790| 2015-08-31|\n",
            "|R3HNVRTHL9S2ZB|     801375|B006R2LNV0|     620737389| 2015-08-31|\n",
            "| R5HKL5RD4IUT8|    9478730|B00SMIIR0W|     351973146| 2015-08-31|\n",
            "|R37Z8NBTHPR853|   18418407|B003UKKH6O|      10034795| 2015-08-31|\n",
            "+--------------+-----------+----------+--------------+-----------+\n",
            "only showing top 20 rows\n",
            "\n"
          ],
          "name": "stdout"
        }
      ]
    },
    {
      "cell_type": "code",
      "metadata": {
        "colab": {
          "base_uri": "https://localhost:8080/"
        },
        "id": "E9gQfmfPMaE8",
        "outputId": "33d814ac-bc40-49cd-9d4b-49b173a5caaf"
      },
      "source": [
        "products = df.select([\"product_id\", \"product_title\"])\n",
        "products.show()"
      ],
      "execution_count": 9,
      "outputs": [
        {
          "output_type": "stream",
          "text": [
            "+----------+--------------------+\n",
            "|product_id|       product_title|\n",
            "+----------+--------------------+\n",
            "|B001ANOOOE|The Naked Bee Vit...|\n",
            "|B0016J22EQ|Alba Botanica Sun...|\n",
            "|B00HU6UQAG|Elysee Infusion S...|\n",
            "|B002HWS7RM|Diane D722 Color,...|\n",
            "|B00SM99KWU|Biore UV Aqua Ric...|\n",
            "|B000NYL1Z6|Murad Clarifying ...|\n",
            "|B001SYWTFG|CoverGirl Queen C...|\n",
            "|B005F2EVMQ|Bifesta Mandom Ey...|\n",
            "|B00M1SUW7K|Can You Handlebar...|\n",
            "|B001KYQA1S|Maybelline Great ...|\n",
            "|B00SAQ9DZY|12 New, High Qual...|\n",
            "|B00HFQQ0VU|Waterpik Aquarius...|\n",
            "|B00PYL8MAA|Proganix Agave Ne...|\n",
            "|B00D9NV2D4|         Shea Butter|\n",
            "|B008Y9M412|Etude House Fresh...|\n",
            "|B00FWXBLHG|Vintage Lil' Spon...|\n",
            "|B003KL8CB0|Jenna Jameson Hea...|\n",
            "|B006R2LNV0|Korean Cosmetics_...|\n",
            "|B00SMIIR0W|Schick Hydro Silk...|\n",
            "|B003UKKH6O|Oral-B Vitality P...|\n",
            "+----------+--------------------+\n",
            "only showing top 20 rows\n",
            "\n"
          ],
          "name": "stdout"
        }
      ]
    },
    {
      "cell_type": "code",
      "metadata": {
        "colab": {
          "base_uri": "https://localhost:8080/"
        },
        "id": "rMBo8q36ZOzv",
        "outputId": "b9e8d6dd-1cef-4b8d-e6d9-578a83a5ea62"
      },
      "source": [
        "#Group by the Customer ID to aggregate the data and count then rename the column to match the SQL table \n",
        "customers = df.groupby(\"customer_id\").agg({\"customer_id\": \"count\"}).withColumnRenamed(\"count(customer_id)\", \"customer_count\")\n",
        "customers.show()"
      ],
      "execution_count": 10,
      "outputs": [
        {
          "output_type": "stream",
          "text": [
            "+-----------+--------------+\n",
            "|customer_id|customer_count|\n",
            "+-----------+--------------+\n",
            "|    9015608|             3|\n",
            "|    9767880|             2|\n",
            "|   15958313|             1|\n",
            "|   12879980|            20|\n",
            "|   43920023|            31|\n",
            "|     106535|             1|\n",
            "|   20328662|             1|\n",
            "|   12819130|             4|\n",
            "|   50145309|             1|\n",
            "|   15159322|             2|\n",
            "|   16747249|             2|\n",
            "|   37678162|             1|\n",
            "|     227763|             1|\n",
            "|   15191144|             2|\n",
            "|   31946913|             1|\n",
            "|   44295916|             1|\n",
            "|   19021463|             1|\n",
            "|     806337|             2|\n",
            "|   16306618|            18|\n",
            "|     393186|             1|\n",
            "+-----------+--------------+\n",
            "only showing top 20 rows\n",
            "\n"
          ],
          "name": "stdout"
        }
      ]
    },
    {
      "cell_type": "code",
      "metadata": {
        "colab": {
          "base_uri": "https://localhost:8080/"
        },
        "id": "7QX3dSAKZR17",
        "outputId": "4f5bfecb-1a08-44f8-a63b-60780e37d5d2"
      },
      "source": [
        "vine = df.select([\"review_id\", \"star_rating\", \"helpful_votes\", \"total_votes\", \"vine\"])\n",
        "vine.show()"
      ],
      "execution_count": 11,
      "outputs": [
        {
          "output_type": "stream",
          "text": [
            "+--------------+-----------+-------------+-----------+----+\n",
            "|     review_id|star_rating|helpful_votes|total_votes|vine|\n",
            "+--------------+-----------+-------------+-----------+----+\n",
            "|R3I2DHQBR577SS|          5|            0|          0|   N|\n",
            "|R1QNE9NQFJC2Y4|          5|            0|          0|   N|\n",
            "|R3LIDG2Q4LJBAO|          5|            0|          0|   N|\n",
            "|R3KSZHPAEVPEAL|          5|            0|          0|   N|\n",
            "| RAI2OIG50KZ43|          5|            0|          0|   N|\n",
            "|R1R30FA4RB5P54|          4|            0|          0|   N|\n",
            "|R30IJKCGJBGPJH|          5|            0|          0|   N|\n",
            "|R18GLJJPVQ1OVH|          5|            0|          0|   N|\n",
            "| R8TVYIJXLYJT0|          5|            0|          0|   N|\n",
            "|R1CJGF6M3PVHEZ|          1|            0|          2|   N|\n",
            "|R2A30ALEGLMCGN|          4|            1|          1|   N|\n",
            "|R134GP1Y3EQZ1L|          5|            0|          0|   N|\n",
            "| R6CE3SOIUJGP4|          4|            1|          1|   N|\n",
            "|R37CDLQZUPDZVM|          5|            0|          0|   N|\n",
            "|R1KH9XCK6GYT26|          5|            0|          0|   N|\n",
            "|R3I4BQ6654MQNA|          5|            1|          1|   N|\n",
            "|R3LUPG356F1D40|          5|            3|          3|   N|\n",
            "|R3HNVRTHL9S2ZB|          5|            0|          0|   N|\n",
            "| R5HKL5RD4IUT8|          5|            0|          0|   N|\n",
            "|R37Z8NBTHPR853|          5|            0|          0|   N|\n",
            "+--------------+-----------+-------------+-----------+----+\n",
            "only showing top 20 rows\n",
            "\n"
          ],
          "name": "stdout"
        }
      ]
    },
    {
      "cell_type": "code",
      "metadata": {
        "id": "1k43uxPdZVQf"
      },
      "source": [
        "mode = \"append\"\n",
        "RDS_url = \"jdbc:postgresql://awvine-db.cgcpr4ffz7uv.us-east-2.rds.amazonaws.com:5432/awvineclass_db\"\n",
        "config = {\"user\":\"root\", \"password\": \"password\", \"driver\":\"org.postgresql.Driver\"}"
      ],
      "execution_count": 12,
      "outputs": []
    },
    {
      "cell_type": "code",
      "metadata": {
        "id": "z1lr5FV4ZYHl"
      },
      "source": [
        "review_id.write.jdbc(url=RDS_url, table='aws_beauty.review_id_table', mode=mode, properties=config)"
      ],
      "execution_count": 18,
      "outputs": []
    },
    {
      "cell_type": "code",
      "metadata": {
        "id": "D-VPqYCdSkWn"
      },
      "source": [
        "products.write.jdbc(url=RDS_url, table='aws_beauty.products', mode=mode, properties=config)"
      ],
      "execution_count": null,
      "outputs": []
    },
    {
      "cell_type": "code",
      "metadata": {
        "id": "IpL0wwT1oFWK"
      },
      "source": [
        "customers.write.jdbc(url=RDS_url, table='aws_beauty.customers', mode=mode, properties=config)"
      ],
      "execution_count": null,
      "outputs": []
    },
    {
      "cell_type": "code",
      "metadata": {
        "id": "5DJZkcqDoIZq"
      },
      "source": [
        "vine.write.jdbc(url=RDS_url, table='aws_beauty.vine_table', mode=mode, properties=config)"
      ],
      "execution_count": null,
      "outputs": []
    }
  ]
}